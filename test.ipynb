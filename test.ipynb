{
 "cells": [
  {
   "cell_type": "code",
   "execution_count": null,
   "id": "9a447ff4",
   "metadata": {},
   "outputs": [],
   "source": [
    "from lunar_python import Lunar, Solar\n",
    "year, month, day, hour, minute, second\n",
    "solar = Solar.fromYmdHms(year, month, day, hour, 0, 0)\n",
    "lunar = solar.getLunar()"
   ]
  },
  {
   "cell_type": "code",
   "execution_count": 24,
   "id": "10ff0d89",
   "metadata": {},
   "outputs": [
    {
     "ename": "NameError",
     "evalue": "name 'SolarSeason' is not defined",
     "output_type": "error",
     "traceback": [
      "\u001b[31m---------------------------------------------------------------------------\u001b[39m",
      "\u001b[31mNameError\u001b[39m                                 Traceback (most recent call last)",
      "\u001b[36mCell\u001b[39m\u001b[36m \u001b[39m\u001b[32mIn[24]\u001b[39m\u001b[32m, line 1\u001b[39m\n\u001b[32m----> \u001b[39m\u001b[32m1\u001b[39m \u001b[43mSolarSeason\u001b[49m\n",
      "\u001b[31mNameError\u001b[39m: name 'SolarSeason' is not defined"
     ]
    }
   ],
   "source": [
    "SolarSeason"
   ]
  },
  {
   "cell_type": "code",
   "execution_count": null,
   "id": "411b80fd",
   "metadata": {},
   "outputs": [],
   "source": []
  }
 ],
 "metadata": {
  "kernelspec": {
   "display_name": ".venv",
   "language": "python",
   "name": "python3"
  },
  "language_info": {
   "codemirror_mode": {
    "name": "ipython",
    "version": 3
   },
   "file_extension": ".py",
   "mimetype": "text/x-python",
   "name": "python",
   "nbconvert_exporter": "python",
   "pygments_lexer": "ipython3",
   "version": "3.12.10"
  }
 },
 "nbformat": 4,
 "nbformat_minor": 5
}
