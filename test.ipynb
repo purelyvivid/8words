{
 "cells": [
  {
   "cell_type": "code",
   "execution_count": 1,
   "id": "52857d7e",
   "metadata": {},
   "outputs": [
    {
     "name": "stdout",
     "output_type": "stream",
     "text": [
      "地支藏干:\n",
      "{'寅': ['甲', '丙', '戊']}\n",
      "{'戌': ['戊', '辛', '丁']}\n",
      "{'卯': ['乙']}\n",
      "{'戌': ['戊', '辛', '丁']}\n",
      "\n",
      "天干相合關係:\n",
      "庚 合 乙 化為 金\n",
      "\n",
      "地支刑沖害關係:\n",
      "寅 三合 戌\n",
      "寅 三合 戌\n",
      "戌 六合 卯\n",
      "卯 六合 戌\n"
     ]
    }
   ],
   "source": [
    "# 輸入八字, 根據 config.py 找出天干地支關係\n",
    "\n",
    "\n",
    "from config import basic, relation\n",
    "\n",
    "def analyze_bazi(heavenly_stems, earthly_branches):\n",
    "    \"\"\"\n",
    "    分析八字，找出天干地支的關係\n",
    "    :param heavenly_stems: 天干列表 (長度為4)\n",
    "    :param earthly_branches: 地支列表 (長度為4)\n",
    "    :return: 分析結果\n",
    "    \"\"\"\n",
    "    results = {\n",
    "        \"hidden_stems\": [],\n",
    "        \"heavenly_relations\": [],\n",
    "        \"branch_relations\": []\n",
    "    }\n",
    "\n",
    "    # 找出地支藏干\n",
    "    for branch in earthly_branches:\n",
    "        hidden = basic.hidden_stems.get(branch, [])\n",
    "        results[\"hidden_stems\"].append({branch: hidden})\n",
    "\n",
    "    # 找出天干相合關係並計算相合後的五行\n",
    "    for i, stem1 in enumerate(heavenly_stems):\n",
    "        for j, stem2 in enumerate(heavenly_stems):\n",
    "            if i < j and stem2 in relation.heavenly_relations[\"合\"].get(stem1, []):\n",
    "                combined_element = relation.get_combined_element(stem1, stem2)\n",
    "                if combined_element:\n",
    "                    results[\"heavenly_relations\"].append(f\"{stem1} 合 {stem2} 化為 {combined_element}\")\n",
    "                else:\n",
    "                    results[\"heavenly_relations\"].append(f\"{stem1} 合 {stem2}\")\n",
    "\n",
    "    # 找出地支刑沖害關係\n",
    "    for i, branch1 in enumerate(earthly_branches):\n",
    "        for j, branch2 in enumerate(earthly_branches):\n",
    "            if i < j:\n",
    "                for relation_type, relations in relation.branch_relations.items():\n",
    "                    if branch2 in relations.get(branch1, []):\n",
    "                        results[\"branch_relations\"].append(f\"{branch1} {relation_type} {branch2}\")\n",
    "\n",
    "    return results\n",
    "\n",
    "# 測試輸入八字\n",
    "heavenly_stems_input = [\"庚\", \"戊\", \"乙\", \"丙\"]  # 天干\n",
    "earthly_branches_input = [\"寅\", \"戌\", \"卯\", \"戌\"]  # 地支\n",
    "\n",
    "analysis = analyze_bazi(heavenly_stems_input, earthly_branches_input)\n",
    "\n",
    "# 輸出分析結果\n",
    "print(\"地支藏干:\")\n",
    "for hidden in analysis[\"hidden_stems\"]:\n",
    "    print(hidden)\n",
    "\n",
    "print(\"\\n天干相合關係:\")\n",
    "for relation in analysis[\"heavenly_relations\"]:\n",
    "    print(relation)\n",
    "\n",
    "print(\"\\n地支刑沖害關係:\")\n",
    "for relation in analysis[\"branch_relations\"]:\n",
    "    print(relation)"
   ]
  },
  {
   "cell_type": "code",
   "execution_count": null,
   "id": "71cb25ae",
   "metadata": {},
   "outputs": [],
   "source": []
  }
 ],
 "metadata": {
  "kernelspec": {
   "display_name": "Python 3",
   "language": "python",
   "name": "python3"
  },
  "language_info": {
   "codemirror_mode": {
    "name": "ipython",
    "version": 3
   },
   "file_extension": ".py",
   "mimetype": "text/x-python",
   "name": "python",
   "nbconvert_exporter": "python",
   "pygments_lexer": "ipython3",
   "version": "3.12.10"
  }
 },
 "nbformat": 4,
 "nbformat_minor": 5
}
